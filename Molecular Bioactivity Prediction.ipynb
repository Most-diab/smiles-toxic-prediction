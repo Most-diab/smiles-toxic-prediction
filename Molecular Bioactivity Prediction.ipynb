{
 "cells": [
  {
   "cell_type": "code",
   "execution_count": 1,
   "metadata": {
    "colab": {
     "base_uri": "https://localhost:8080/",
     "height": 0
    },
    "id": "-xBKW-Uhudyq",
    "outputId": "d11d979c-0bae-4b25-d175-09019b7bcb86"
   },
   "outputs": [
    {
     "name": "stdout",
     "output_type": "stream",
     "text": [
      "Collecting rdkit\n",
      "  Downloading rdkit-2024.9.6-cp311-cp311-manylinux_2_28_x86_64.whl.metadata (4.0 kB)\n",
      "Requirement already satisfied: numpy in /usr/local/lib/python3.11/dist-packages (from rdkit) (2.0.2)\n",
      "Requirement already satisfied: Pillow in /usr/local/lib/python3.11/dist-packages (from rdkit) (11.1.0)\n",
      "Downloading rdkit-2024.9.6-cp311-cp311-manylinux_2_28_x86_64.whl (34.3 MB)\n",
      "\u001b[2K   \u001b[90m━━━━━━━━━━━━━━━━━━━━━━━━━━━━━━━━━━━━━━━━\u001b[0m \u001b[32m34.3/34.3 MB\u001b[0m \u001b[31m16.9 MB/s\u001b[0m eta \u001b[36m0:00:00\u001b[0m\n",
      "\u001b[?25hInstalling collected packages: rdkit\n",
      "Successfully installed rdkit-2024.9.6\n"
     ]
    }
   ],
   "source": [
    "!pip install rdkit"
   ]
  },
  {
   "cell_type": "markdown",
   "metadata": {
    "id": "BGnnXtv1cCsS"
   },
   "source": [
    "# Libraries\n",
    "\n",
    "\n",
    "\n"
   ]
  },
  {
   "cell_type": "code",
   "execution_count": 2,
   "metadata": {
    "id": "5RqKTgn0sKmy"
   },
   "outputs": [],
   "source": [
    "\n",
    "import pandas as pd\n",
    "import numpy as np\n",
    "from rdkit import Chem, RDLogger\n",
    "from rdkit.Chem import AllChem, DataStructs\n",
    "from sklearn.ensemble import RandomForestClassifier\n",
    "from sklearn.model_selection import train_test_split\n",
    "from sklearn.metrics import roc_auc_score\n",
    "from imblearn.over_sampling import SMOTE\n",
    "from tqdm import tqdm\n",
    "import warnings"
   ]
  },
  {
   "cell_type": "code",
   "execution_count": 3,
   "metadata": {
    "id": "gtxWClf2yA4M"
   },
   "outputs": [],
   "source": [
    "# Disable warnings and RDKit logs\n",
    "warnings.filterwarnings(\"ignore\")\n",
    "RDLogger.DisableLog('rdApp.*')"
   ]
  },
  {
   "cell_type": "markdown",
   "metadata": {
    "id": "3p6voS_3cNuP"
   },
   "source": [
    "\n",
    "# Loadin the Data\n"
   ]
  },
  {
   "cell_type": "code",
   "execution_count": 5,
   "metadata": {
    "colab": {
     "base_uri": "https://localhost:8080/",
     "height": 0
    },
    "id": "gIJRdPt3sSkK",
    "outputId": "24cf75c5-499c-4b00-eb94-7cd56132044f"
   },
   "outputs": [
    {
     "name": "stdout",
     "output_type": "stream",
     "text": [
      "Data loaded:  (12000, 12) (5896, 1)\n"
     ]
    }
   ],
   "source": [
    "\n",
    "df_train = pd.read_csv(\"data_train.csv\", index_col=0).reset_index(drop=True)\n",
    "df_test = pd.read_csv(\"smiles_test.csv\", index_col=0).reset_index(drop=True)\n",
    "print(\"Data loaded: \", df_train.shape, df_test.shape)\n",
    "\n"
   ]
  },
  {
   "cell_type": "markdown",
   "metadata": {
    "id": "7dYATHImcVTN"
   },
   "source": [
    "\n",
    "# Preparing Train/Validation Split\n",
    "\n",
    "\n"
   ]
  },
  {
   "cell_type": "code",
   "execution_count": 6,
   "metadata": {
    "id": "YkehfxSF4I5q"
   },
   "outputs": [],
   "source": [
    "\n",
    "X_train_raw, X_val_raw, Y_train, Y_val = train_test_split(\n",
    "    df_train['smiles'], df_train.iloc[:, 1:], test_size=0.2, random_state=42\n",
    ")\n",
    "\n"
   ]
  },
  {
   "cell_type": "markdown",
   "metadata": {
    "id": "VDDPIDIVcnbG"
   },
   "source": [
    "# Fingerprint Generator"
   ]
  },
  {
   "cell_type": "code",
   "execution_count": 7,
   "metadata": {
    "id": "NyH5bQNL4IwC"
   },
   "outputs": [],
   "source": [
    "\n",
    "def smiles_to_morgan(smiles_list, radius=2, n_bits=1024):\n",
    "    fps = np.zeros((len(smiles_list), n_bits))\n",
    "    for i, smi in enumerate(smiles_list):\n",
    "        mol = Chem.MolFromSmiles(smi)\n",
    "        if mol:\n",
    "            fp = AllChem.GetMorganFingerprintAsBitVect(mol, radius, nBits=n_bits)\n",
    "            arr = np.zeros((1,))\n",
    "            DataStructs.ConvertToNumpyArray(fp, arr)\n",
    "            fps[i] = arr\n",
    "    return fps\n",
    "\n",
    "X_train_fps = smiles_to_morgan(X_train_raw)\n",
    "X_val_fps = smiles_to_morgan(X_val_raw)\n",
    "\n",
    "\n"
   ]
  },
  {
   "cell_type": "markdown",
   "metadata": {
    "id": "e4sVp-h6cwTT"
   },
   "source": [
    "# Training the Models (SMOTE + RF)"
   ]
  },
  {
   "cell_type": "code",
   "execution_count": 8,
   "metadata": {
    "id": "DPC69Uzx4Io9"
   },
   "outputs": [],
   "source": [
    "\n",
    "def train_random_forest_models(X_train_fps, Y_train, X_eval_fps):\n",
    "    n_tasks = Y_train.shape[1]\n",
    "    predictions = np.zeros((X_eval_fps.shape[0], n_tasks))\n",
    "    models = []\n",
    "\n",
    "    for i in range(n_tasks):\n",
    "        y = Y_train.iloc[:, i]\n",
    "        valid_idx = y != -1\n",
    "        X_sub = X_train_fps[valid_idx]\n",
    "        y_sub = y[valid_idx]\n",
    "\n",
    "        if len(np.unique(y_sub)) < 2:\n",
    "          continue  # skip this task if only one class is present\n",
    "\n",
    "        sm = SMOTE(sampling_strategy='auto', random_state=42)\n",
    "        X_balanced, y_balanced = sm.fit_resample(X_sub, y_sub)\n",
    "\n",
    "        clf = RandomForestClassifier(n_estimators=500, max_depth=12, class_weight=\"balanced\", random_state=42)\n",
    "\n",
    "\n",
    "        clf.fit(X_balanced, y_balanced)\n",
    "        models.append(clf)\n",
    "\n",
    "        predictions[:, i] = clf.predict_proba(X_eval_fps)[:, 1]\n",
    "\n",
    "    return models, predictions\n",
    "\n",
    "models, preds_val = train_random_forest_models(X_train_fps, Y_train, X_val_fps)\n",
    "\n"
   ]
  },
  {
   "cell_type": "markdown",
   "metadata": {
    "id": "bFr2Bviec_MM"
   },
   "source": [
    "# Evaluate AUC"
   ]
  },
  {
   "cell_type": "code",
   "execution_count": 9,
   "metadata": {
    "colab": {
     "base_uri": "https://localhost:8080/",
     "height": 0
    },
    "id": "lT9IRWpS4ImB",
    "outputId": "af204905-49e3-46ec-fb20-18e7eae15a28"
   },
   "outputs": [
    {
     "name": "stdout",
     "output_type": "stream",
     "text": [
      " Mean AUC: 0.7646\n"
     ]
    },
    {
     "data": {
      "text/plain": [
       "np.float64(0.7646369073108868)"
      ]
     },
     "execution_count": 9,
     "metadata": {},
     "output_type": "execute_result"
    }
   ],
   "source": [
    "\n",
    "def average_auc(y_true_df, y_pred_array):\n",
    "    auc_scores = []\n",
    "    for i in range(y_true_df.shape[1]):\n",
    "        y_true = y_true_df.iloc[:, i]\n",
    "        valid = y_true != -1\n",
    "        if valid.sum() == 0:\n",
    "            continue\n",
    "        score = roc_auc_score(y_true[valid], y_pred_array[valid, i])\n",
    "        auc_scores.append(score)\n",
    "    print(f\" Mean AUC: {np.mean(auc_scores):.4f}\")\n",
    "    return np.mean(auc_scores)\n",
    "\n",
    "average_auc(Y_val, preds_val)\n",
    "\n"
   ]
  },
  {
   "cell_type": "markdown",
   "metadata": {
    "id": "LoumHA5GdFAU"
   },
   "source": [
    "# Retrain on Full Dataset + Predict"
   ]
  },
  {
   "cell_type": "code",
   "execution_count": 10,
   "metadata": {
    "id": "VuNi2RND4YYm"
   },
   "outputs": [],
   "source": [
    "\n",
    "X_full_fps = smiles_to_morgan(df_train[\"smiles\"])\n",
    "X_test_fps = smiles_to_morgan(df_test[\"smiles\"])\n",
    "\n",
    "_, final_predictions = train_random_forest_models(X_full_fps, df_train.iloc[:, 1:], X_test_fps)\n",
    "\n"
   ]
  },
  {
   "cell_type": "markdown",
   "metadata": {
    "id": "WSoMTX9FdKCf"
   },
   "source": [
    "# Submission File"
   ]
  },
  {
   "cell_type": "code",
   "execution_count": 11,
   "metadata": {
    "colab": {
     "base_uri": "https://localhost:8080/",
     "height": 0
    },
    "id": "tmtbdCfj4YF0",
    "outputId": "d6660280-132e-40fd-8695-e0a5500ed500"
   },
   "outputs": [
    {
     "name": "stdout",
     "output_type": "stream",
     "text": [
      " Submission saved as submission.csv\n"
     ]
    }
   ],
   "source": [
    "#\n",
    "submission = pd.DataFrame(final_predictions, columns=df_train.columns[1:])\n",
    "submission.index.name = \"Id\"\n",
    "submission.to_csv(\"final_output.csv\")\n",
    "print(\" Submission saved as submission.csv\")"
   ]
  }
 ],
 "metadata": {
  "colab": {
   "provenance": []
  },
  "kernelspec": {
   "display_name": "Python 3 (ipykernel)",
   "language": "python",
   "name": "python3"
  },
  "language_info": {
   "codemirror_mode": {
    "name": "ipython",
    "version": 3
   },
   "file_extension": ".py",
   "mimetype": "text/x-python",
   "name": "python",
   "nbconvert_exporter": "python",
   "pygments_lexer": "ipython3",
   "version": "3.11.1"
  }
 },
 "nbformat": 4,
 "nbformat_minor": 4
}
